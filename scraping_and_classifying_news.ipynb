{
 "cells": [
  {
   "cell_type": "markdown",
   "id": "505c32cd",
   "metadata": {},
   "source": [
    "\n",
    "\n",
    "<img src=\"https://digitaladvertisingmarketing.co.uk/wp-content/uploads/2020/06/Internet-News.jpg\" width=1600 height=800 />"
   ]
  },
  {
   "cell_type": "markdown",
   "id": "4b215213",
   "metadata": {},
   "source": [
    "## Imported Libraries"
   ]
  },
  {
   "cell_type": "code",
   "execution_count": 38,
   "id": "6d1fa0ce",
   "metadata": {},
   "outputs": [],
   "source": [
    "import pandas as pd\n",
    "import numpy as np\n",
    "import seaborn as sns\n",
    "import matplotlib.pyplot as plt\n",
    "import nltk, os\n",
    "from newspaper import Article\n",
    "from tensorflow import keras\n",
    "from keras.preprocessing.text import text_to_word_sequence\n",
    "from nltk.corpus import stopwords, wordnet\n",
    "from nltk.stem import PorterStemmer, WordNetLemmatizer\n",
    "from sklearn.feature_extraction.text import TfidfVectorizer, TfidfTransformer, CountVectorizer\n",
    "from sklearn.model_selection import train_test_split\n",
    "from sklearn.naive_bayes import MultinomialNB\n",
    "from sklearn.naive_bayes import GaussianNB\n",
    "from sklearn.metrics import roc_auc_score\n",
    "from sklearn.pipeline import Pipeline\n",
    "from sklearn.metrics import classification_report\n",
    "from sklearn.metrics import accuracy_score\n",
    "from sklearn.tree import DecisionTreeClassifier\n",
    "from sklearn.ensemble import RandomForestClassifier"
   ]
  },
  {
   "cell_type": "markdown",
   "id": "7223dd8f",
   "metadata": {},
   "source": [
    "## Web News URLs"
   ]
  },
  {
   "cell_type": "code",
   "execution_count": 46,
   "id": "af0dc950",
   "metadata": {},
   "outputs": [],
   "source": [
    "health    = pd.read_csv('health.csv')\n",
    "defense   = pd.read_csv('defense.csv')\n",
    "economics = pd.read_csv('economics.csv')\n",
    "dataset   = pd.concat([health, defense, economics])"
   ]
  },
  {
   "cell_type": "code",
   "execution_count": 47,
   "id": "d14d7d46",
   "metadata": {},
   "outputs": [
    {
     "data": {
      "text/html": [
       "<div>\n",
       "<style scoped>\n",
       "    .dataframe tbody tr th:only-of-type {\n",
       "        vertical-align: middle;\n",
       "    }\n",
       "\n",
       "    .dataframe tbody tr th {\n",
       "        vertical-align: top;\n",
       "    }\n",
       "\n",
       "    .dataframe thead th {\n",
       "        text-align: right;\n",
       "    }\n",
       "</style>\n",
       "<table border=\"1\" class=\"dataframe\">\n",
       "  <thead>\n",
       "    <tr style=\"text-align: right;\">\n",
       "      <th></th>\n",
       "      <th>url</th>\n",
       "      <th>type</th>\n",
       "    </tr>\n",
       "  </thead>\n",
       "  <tbody>\n",
       "    <tr>\n",
       "      <th>0</th>\n",
       "      <td>https://www.medscape.com/viewarticle/963480</td>\n",
       "      <td>health</td>\n",
       "    </tr>\n",
       "    <tr>\n",
       "      <th>1</th>\n",
       "      <td>https://www.medscape.com/viewarticle/963473</td>\n",
       "      <td>health</td>\n",
       "    </tr>\n",
       "    <tr>\n",
       "      <th>2</th>\n",
       "      <td>https://www.medscape.com/viewarticle/963399</td>\n",
       "      <td>health</td>\n",
       "    </tr>\n",
       "    <tr>\n",
       "      <th>3</th>\n",
       "      <td>https://www.medscape.com/viewarticle/963373</td>\n",
       "      <td>health</td>\n",
       "    </tr>\n",
       "    <tr>\n",
       "      <th>4</th>\n",
       "      <td>https://www.medscape.com/viewarticle/963470</td>\n",
       "      <td>health</td>\n",
       "    </tr>\n",
       "  </tbody>\n",
       "</table>\n",
       "</div>"
      ],
      "text/plain": [
       "                                           url    type\n",
       "0  https://www.medscape.com/viewarticle/963480  health\n",
       "1  https://www.medscape.com/viewarticle/963473  health\n",
       "2  https://www.medscape.com/viewarticle/963399  health\n",
       "3  https://www.medscape.com/viewarticle/963373  health\n",
       "4  https://www.medscape.com/viewarticle/963470  health"
      ]
     },
     "execution_count": 47,
     "metadata": {},
     "output_type": "execute_result"
    }
   ],
   "source": [
    "dataset.head()"
   ]
  },
  {
   "cell_type": "markdown",
   "id": "d6e70dba",
   "metadata": {},
   "source": [
    "## The Web News Crawler"
   ]
  },
  {
   "cell_type": "code",
   "execution_count": 12,
   "id": "ebc0cc6a",
   "metadata": {},
   "outputs": [],
   "source": [
    "def scraperz(url):\n",
    "    art = Article(url, language=\"en\")\n",
    "    art.download()\n",
    "    art.parse()\n",
    "    art.nlp()\n",
    "    return art.text"
   ]
  },
  {
   "cell_type": "code",
   "execution_count": 14,
   "id": "668120d2",
   "metadata": {},
   "outputs": [],
   "source": [
    "dataset['text'] = dataset.url.apply(lambda x: scraperz(x))"
   ]
  },
  {
   "cell_type": "code",
   "execution_count": 16,
   "id": "a246bce8",
   "metadata": {},
   "outputs": [],
   "source": [
    "dataset.to_csv('crawled_news.csv')"
   ]
  },
  {
   "cell_type": "code",
   "execution_count": 17,
   "id": "0e411784",
   "metadata": {},
   "outputs": [],
   "source": [
    "dataset['typeId'] = dataset['type'].factorize()[0]"
   ]
  },
  {
   "cell_type": "code",
   "execution_count": 18,
   "id": "e307919a",
   "metadata": {},
   "outputs": [],
   "source": [
    "dataset = dataset.drop(dataset.columns[0], axis = 1)"
   ]
  },
  {
   "cell_type": "code",
   "execution_count": 19,
   "id": "dd4b81e2",
   "metadata": {},
   "outputs": [
    {
     "data": {
      "text/html": [
       "<div>\n",
       "<style scoped>\n",
       "    .dataframe tbody tr th:only-of-type {\n",
       "        vertical-align: middle;\n",
       "    }\n",
       "\n",
       "    .dataframe tbody tr th {\n",
       "        vertical-align: top;\n",
       "    }\n",
       "\n",
       "    .dataframe thead th {\n",
       "        text-align: right;\n",
       "    }\n",
       "</style>\n",
       "<table border=\"1\" class=\"dataframe\">\n",
       "  <thead>\n",
       "    <tr style=\"text-align: right;\">\n",
       "      <th></th>\n",
       "      <th>type</th>\n",
       "      <th>text</th>\n",
       "      <th>typeId</th>\n",
       "    </tr>\n",
       "  </thead>\n",
       "  <tbody>\n",
       "    <tr>\n",
       "      <th>0</th>\n",
       "      <td>health</td>\n",
       "      <td>Veterans who have sustained a mild traumatic b...</td>\n",
       "      <td>0</td>\n",
       "    </tr>\n",
       "    <tr>\n",
       "      <th>1</th>\n",
       "      <td>health</td>\n",
       "      <td>Patients with giant cell arteritis (GCA) remai...</td>\n",
       "      <td>0</td>\n",
       "    </tr>\n",
       "    <tr>\n",
       "      <th>2</th>\n",
       "      <td>health</td>\n",
       "      <td>(Reuters) - Dangerous blood clots often seen i...</td>\n",
       "      <td>0</td>\n",
       "    </tr>\n",
       "    <tr>\n",
       "      <th>3</th>\n",
       "      <td>health</td>\n",
       "      <td>SAN JOSE, Calif. (Reuters) - Prosecutors reste...</td>\n",
       "      <td>0</td>\n",
       "    </tr>\n",
       "    <tr>\n",
       "      <th>4</th>\n",
       "      <td>health</td>\n",
       "      <td>Women with a history of stage III to stage IV ...</td>\n",
       "      <td>0</td>\n",
       "    </tr>\n",
       "  </tbody>\n",
       "</table>\n",
       "</div>"
      ],
      "text/plain": [
       "     type                                               text  typeId\n",
       "0  health  Veterans who have sustained a mild traumatic b...       0\n",
       "1  health  Patients with giant cell arteritis (GCA) remai...       0\n",
       "2  health  (Reuters) - Dangerous blood clots often seen i...       0\n",
       "3  health  SAN JOSE, Calif. (Reuters) - Prosecutors reste...       0\n",
       "4  health  Women with a history of stage III to stage IV ...       0"
      ]
     },
     "execution_count": 19,
     "metadata": {},
     "output_type": "execute_result"
    }
   ],
   "source": [
    "dataset.head()"
   ]
  },
  {
   "cell_type": "code",
   "execution_count": 20,
   "id": "b38a3f84",
   "metadata": {},
   "outputs": [
    {
     "name": "stdout",
     "output_type": "stream",
     "text": [
      "['health' 'defense' 'economics']\n"
     ]
    }
   ],
   "source": [
    "target_category = dataset['type'].unique()\n",
    "print(target_category)"
   ]
  },
  {
   "cell_type": "code",
   "execution_count": 21,
   "id": "f6753d2a",
   "metadata": {},
   "outputs": [
    {
     "data": {
      "text/plain": [
       "type\n",
       "defense      66\n",
       "economics    76\n",
       "health       95\n",
       "Name: typeId, dtype: int64"
      ]
     },
     "execution_count": 21,
     "metadata": {},
     "output_type": "execute_result"
    }
   ],
   "source": [
    "dataset.groupby('type').typeId.count()"
   ]
  },
  {
   "cell_type": "code",
   "execution_count": 22,
   "id": "9f810e53",
   "metadata": {},
   "outputs": [
    {
     "data": {
      "text/plain": [
       "<AxesSubplot:xlabel='type'>"
      ]
     },
     "execution_count": 22,
     "metadata": {},
     "output_type": "execute_result"
    },
    {
     "data": {
      "image/png": "[encoded data removed]",
      "text/plain": [
       "<Figure size 432x288 with 1 Axes>"
      ]
     },
     "metadata": {
      "needs_background": "light"
     },
     "output_type": "display_data"
    }
   ],
   "source": [
    "dataset.groupby('type').typeId.count().plot.bar(ylim=0)"
   ]
  },
  {
   "cell_type": "markdown",
   "id": "ddc5cc18",
   "metadata": {},
   "source": [
    "## Pre-processing"
   ]
  },
  {
   "cell_type": "code",
   "execution_count": 23,
   "id": "47171946",
   "metadata": {},
   "outputs": [],
   "source": [
    "def preprocessDataset(train_text):\n",
    "       \n",
    "    #word tokenization using text-to-word-sequence\n",
    "    train_text= str(train_text)\n",
    "    tokenized_train_set = text_to_word_sequence(train_text,filters='!\"#$%&()*+,-./:;<=>?@[\\\\]^_`{|}~\\t\\n',lower=True,split=\" \")\n",
    "        \n",
    "    #stop word removal\n",
    "    stop_words = set(stopwords.words('english'))\n",
    "    stopwordremove = [i for i in tokenized_train_set if not i in stop_words]\n",
    "        \n",
    "     \n",
    "    #join words into sentence\n",
    "    stopwordremove_text = ' '.join(stopwordremove)\n",
    "        \n",
    "        \n",
    "    #remove numbers\n",
    "    numberremove_text = ''.join(c for c in stopwordremove_text if not c.isdigit())\n",
    "       \n",
    "        \n",
    "    #--Stemming--\n",
    "    stemmer= PorterStemmer()\n",
    "\n",
    "    stem_input=nltk.word_tokenize(numberremove_text)\n",
    "    stem_text=' '.join([stemmer.stem(word) for word in stem_input])\n",
    "        \n",
    "        \n",
    "    lemmatizer = WordNetLemmatizer()\n",
    "\n",
    "    def get_wordnet_pos(word):\n",
    "        \"\"\"Map POS tag to first character lemmatize() accepts\"\"\"\n",
    "        tag = nltk.pos_tag([word])[0][1][0].upper()\n",
    "        tag_dict = {\"J\": wordnet.ADJ,\n",
    "                \"N\": wordnet.NOUN,\n",
    "                \"V\": wordnet.VERB,\n",
    "                \"R\": wordnet.ADV}\n",
    "\n",
    "        return tag_dict.get(tag, wordnet.NOUN)\n",
    "\n",
    "    lem_input = nltk.word_tokenize(stem_text)\n",
    "    lem_text= ' '.join([lemmatizer.lemmatize(w, get_wordnet_pos(w)) for w in lem_input])\n",
    "        \n",
    "    return lem_text"
   ]
  },
  {
   "cell_type": "code",
   "execution_count": 30,
   "id": "3ad7c8a0",
   "metadata": {},
   "outputs": [],
   "source": [
    "dataset['wordcount'] = dataset.text.apply(lambda x: len(x.split()))"
   ]
  },
  {
   "cell_type": "code",
   "execution_count": 31,
   "id": "dd84bd88",
   "metadata": {},
   "outputs": [
    {
     "data": {
      "text/html": [
       "<div>\n",
       "<style scoped>\n",
       "    .dataframe tbody tr th:only-of-type {\n",
       "        vertical-align: middle;\n",
       "    }\n",
       "\n",
       "    .dataframe tbody tr th {\n",
       "        vertical-align: top;\n",
       "    }\n",
       "\n",
       "    .dataframe thead th {\n",
       "        text-align: right;\n",
       "    }\n",
       "</style>\n",
       "<table border=\"1\" class=\"dataframe\">\n",
       "  <thead>\n",
       "    <tr style=\"text-align: right;\">\n",
       "      <th></th>\n",
       "      <th>type</th>\n",
       "      <th>text</th>\n",
       "      <th>typeId</th>\n",
       "      <th>wordcount</th>\n",
       "    </tr>\n",
       "  </thead>\n",
       "  <tbody>\n",
       "    <tr>\n",
       "      <th>0</th>\n",
       "      <td>health</td>\n",
       "      <td>Veterans who have sustained a mild traumatic b...</td>\n",
       "      <td>0</td>\n",
       "      <td>1160</td>\n",
       "    </tr>\n",
       "    <tr>\n",
       "      <th>1</th>\n",
       "      <td>health</td>\n",
       "      <td>Patients with giant cell arteritis (GCA) remai...</td>\n",
       "      <td>0</td>\n",
       "      <td>704</td>\n",
       "    </tr>\n",
       "    <tr>\n",
       "      <th>2</th>\n",
       "      <td>health</td>\n",
       "      <td>(Reuters) - Dangerous blood clots often seen i...</td>\n",
       "      <td>0</td>\n",
       "      <td>166</td>\n",
       "    </tr>\n",
       "    <tr>\n",
       "      <th>3</th>\n",
       "      <td>health</td>\n",
       "      <td>SAN JOSE, Calif. (Reuters) - Prosecutors reste...</td>\n",
       "      <td>0</td>\n",
       "      <td>225</td>\n",
       "    </tr>\n",
       "    <tr>\n",
       "      <th>4</th>\n",
       "      <td>health</td>\n",
       "      <td>Women with a history of stage III to stage IV ...</td>\n",
       "      <td>0</td>\n",
       "      <td>725</td>\n",
       "    </tr>\n",
       "  </tbody>\n",
       "</table>\n",
       "</div>"
      ],
      "text/plain": [
       "     type                                               text  typeId  \\\n",
       "0  health  Veterans who have sustained a mild traumatic b...       0   \n",
       "1  health  Patients with giant cell arteritis (GCA) remai...       0   \n",
       "2  health  (Reuters) - Dangerous blood clots often seen i...       0   \n",
       "3  health  SAN JOSE, Calif. (Reuters) - Prosecutors reste...       0   \n",
       "4  health  Women with a history of stage III to stage IV ...       0   \n",
       "\n",
       "   wordcount  \n",
       "0       1160  \n",
       "1        704  \n",
       "2        166  \n",
       "3        225  \n",
       "4        725  "
      ]
     },
     "execution_count": 31,
     "metadata": {},
     "output_type": "execute_result"
    }
   ],
   "source": [
    "dataset.head()"
   ]
  },
  {
   "cell_type": "code",
   "execution_count": 32,
   "id": "f3a425d9",
   "metadata": {},
   "outputs": [
    {
     "data": {
      "text/plain": [
       "type\n",
       "defense      38053\n",
       "economics    28660\n",
       "health       66971\n",
       "Name: wordcount, dtype: int64"
      ]
     },
     "execution_count": 32,
     "metadata": {},
     "output_type": "execute_result"
    }
   ],
   "source": [
    "dataset.groupby('type').wordcount.sum()"
   ]
  },
  {
   "cell_type": "code",
   "execution_count": 33,
   "id": "1af5bda3",
   "metadata": {},
   "outputs": [
    {
     "data": {
      "text/plain": [
       "<AxesSubplot:xlabel='type'>"
      ]
     },
     "execution_count": 33,
     "metadata": {},
     "output_type": "execute_result"
    },
    {
     "data": {
      "image/png": "[encoded data removed]",
      "text/plain": [
       "<Figure size 432x288 with 1 Axes>"
      ]
     },
     "metadata": {
      "needs_background": "light"
     },
     "output_type": "display_data"
    }
   ],
   "source": [
    "dataset.groupby('type').wordcount.sum().plot(kind = 'bar')"
   ]
  },
  {
   "cell_type": "code",
   "execution_count": 39,
   "id": "d982a73f",
   "metadata": {},
   "outputs": [
    {
     "data": {
      "text/html": [
       "<div>\n",
       "<style scoped>\n",
       "    .dataframe tbody tr th:only-of-type {\n",
       "        vertical-align: middle;\n",
       "    }\n",
       "\n",
       "    .dataframe tbody tr th {\n",
       "        vertical-align: top;\n",
       "    }\n",
       "\n",
       "    .dataframe thead th {\n",
       "        text-align: right;\n",
       "    }\n",
       "</style>\n",
       "<table border=\"1\" class=\"dataframe\">\n",
       "  <thead>\n",
       "    <tr style=\"text-align: right;\">\n",
       "      <th></th>\n",
       "      <th>type</th>\n",
       "      <th>text</th>\n",
       "      <th>typeId</th>\n",
       "      <th>wordcount</th>\n",
       "    </tr>\n",
       "  </thead>\n",
       "  <tbody>\n",
       "    <tr>\n",
       "      <th>0</th>\n",
       "      <td>health</td>\n",
       "      <td>veteran sustain mild traumat brain injuri mtbi...</td>\n",
       "      <td>0</td>\n",
       "      <td>1160</td>\n",
       "    </tr>\n",
       "    <tr>\n",
       "      <th>1</th>\n",
       "      <td>health</td>\n",
       "      <td>patient giant cell arter gca remain remiss lon...</td>\n",
       "      <td>0</td>\n",
       "      <td>704</td>\n",
       "    </tr>\n",
       "    <tr>\n",
       "      <th>2</th>\n",
       "      <td>health</td>\n",
       "      <td>reuter danger blood clot often see patient cov...</td>\n",
       "      <td>0</td>\n",
       "      <td>166</td>\n",
       "    </tr>\n",
       "    <tr>\n",
       "      <th>3</th>\n",
       "      <td>health</td>\n",
       "      <td>san jose calif reuter prosecutor rest crimin f...</td>\n",
       "      <td>0</td>\n",
       "      <td>225</td>\n",
       "    </tr>\n",
       "    <tr>\n",
       "      <th>4</th>\n",
       "      <td>health</td>\n",
       "      <td>woman histori stage iii stage iv breast cancer...</td>\n",
       "      <td>0</td>\n",
       "      <td>725</td>\n",
       "    </tr>\n",
       "  </tbody>\n",
       "</table>\n",
       "</div>"
      ],
      "text/plain": [
       "     type                                               text  typeId  \\\n",
       "0  health  veteran sustain mild traumat brain injuri mtbi...       0   \n",
       "1  health  patient giant cell arter gca remain remiss lon...       0   \n",
       "2  health  reuter danger blood clot often see patient cov...       0   \n",
       "3  health  san jose calif reuter prosecutor rest crimin f...       0   \n",
       "4  health  woman histori stage iii stage iv breast cancer...       0   \n",
       "\n",
       "   wordcount  \n",
       "0       1160  \n",
       "1        704  \n",
       "2        166  \n",
       "3        225  \n",
       "4        725  "
      ]
     },
     "execution_count": 39,
     "metadata": {},
     "output_type": "execute_result"
    }
   ],
   "source": [
    "dataset.text = dataset.text.apply(preprocessDataset)\n",
    "dataset.head()"
   ]
  },
  {
   "cell_type": "code",
   "execution_count": 41,
   "id": "13a10d37",
   "metadata": {},
   "outputs": [
    {
     "name": "stdout",
     "output_type": "stream",
     "text": [
      "165\n",
      "72\n"
     ]
    }
   ],
   "source": [
    "X_train, X_test, Y_train, Y_test = train_test_split(dataset.text, dataset.type, test_size = 0.3, random_state = 60,shuffle=True)\n",
    "\n",
    "print(len(X_train))\n",
    "print(len(X_test))"
   ]
  },
  {
   "cell_type": "markdown",
   "id": "f0b10c37",
   "metadata": {},
   "source": [
    "# Multinominal Naive Bayes\n"
   ]
  },
  {
   "cell_type": "code",
   "execution_count": 42,
   "id": "f5a80e67",
   "metadata": {},
   "outputs": [
    {
     "name": "stdout",
     "output_type": "stream",
     "text": [
      "Naive Bayes Train Accuracy Score : 100% \n",
      "Naive Bayes Test Accuracy Score  : 100% \n",
      "\n",
      "              precision    recall  f1-score   support\n",
      "\n",
      "      health       1.00      1.00      1.00        22\n",
      "     defense       1.00      1.00      1.00        21\n",
      "   economics       1.00      1.00      1.00        29\n",
      "\n",
      "    accuracy                           1.00        72\n",
      "   macro avg       1.00      1.00      1.00        72\n",
      "weighted avg       1.00      1.00      1.00        72\n",
      "\n"
     ]
    }
   ],
   "source": [
    "nb = Pipeline([('tfidf', TfidfVectorizer()),\n",
    "               ('clf', MultinomialNB()),\n",
    "              ])\n",
    "nb.fit(X_train,Y_train)\n",
    "\n",
    "test_predict = nb.predict(X_test)\n",
    "\n",
    "train_accuracy = round(nb.score(X_train,Y_train)*100)\n",
    "test_accuracy =round(accuracy_score(test_predict, Y_test)*100)\n",
    "\n",
    "\n",
    "print(\"Naive Bayes Train Accuracy Score : {}% \".format(train_accuracy ))\n",
    "print(\"Naive Bayes Test Accuracy Score  : {}% \".format(test_accuracy ))\n",
    "print()\n",
    "print(classification_report(test_predict, Y_test, target_names=target_category))"
   ]
  },
  {
   "cell_type": "markdown",
   "id": "61eb7e74",
   "metadata": {},
   "source": [
    "# Decision Tree"
   ]
  },
  {
   "cell_type": "code",
   "execution_count": 43,
   "id": "1903d07c",
   "metadata": {},
   "outputs": [
    {
     "name": "stdout",
     "output_type": "stream",
     "text": [
      "Decision Tree Train Accuracy Score : 100% \n",
      "Decision Tree Test Accuracy Score  : 88% \n",
      "\n",
      "              precision    recall  f1-score   support\n",
      "\n",
      "      health       0.91      0.91      0.91        22\n",
      "     defense       0.95      0.80      0.87        25\n",
      "   economics       0.79      0.92      0.85        25\n",
      "\n",
      "    accuracy                           0.88        72\n",
      "   macro avg       0.88      0.88      0.88        72\n",
      "weighted avg       0.88      0.88      0.88        72\n",
      "\n"
     ]
    }
   ],
   "source": [
    "dt = Pipeline([('tfidf', TfidfVectorizer()),\n",
    "                ('dt', DecisionTreeClassifier()),\n",
    "               ])\n",
    "\n",
    "dt.fit(X_train, Y_train)\n",
    "\n",
    "test_predict = dt.predict(X_test)\n",
    "\n",
    "train_accuracy = round(dt.score(X_train,Y_train)*100)\n",
    "test_accuracy =round(accuracy_score(test_predict, Y_test)*100)\n",
    "\n",
    "print(\"Decision Tree Train Accuracy Score : {}% \".format(train_accuracy ))\n",
    "print(\"Decision Tree Test Accuracy Score  : {}% \".format(test_accuracy ))\n",
    "print()\n",
    "print(classification_report(test_predict, Y_test, target_names=target_category))"
   ]
  },
  {
   "cell_type": "markdown",
   "id": "38f92b5f",
   "metadata": {},
   "source": [
    "# Random Forest"
   ]
  },
  {
   "cell_type": "code",
   "execution_count": 45,
   "id": "b0df7ae6",
   "metadata": {},
   "outputs": [
    {
     "name": "stdout",
     "output_type": "stream",
     "text": [
      "Random Forest Train Accuracy Score : 100% \n",
      "Random Forest Test Accuracy Score  : 99% \n",
      "\n",
      "              precision    recall  f1-score   support\n",
      "\n",
      "      health       1.00      1.00      1.00        22\n",
      "     defense       1.00      0.95      0.98        22\n",
      "   economics       0.97      1.00      0.98        28\n",
      "\n",
      "    accuracy                           0.99        72\n",
      "   macro avg       0.99      0.98      0.99        72\n",
      "weighted avg       0.99      0.99      0.99        72\n",
      "\n"
     ]
    }
   ],
   "source": [
    "rfc = Pipeline([('tfidf', TfidfVectorizer()),\n",
    "                ('rfc', RandomForestClassifier(n_estimators=100)),\n",
    "               ])\n",
    "\n",
    "rfc.fit(X_train, Y_train)\n",
    "\n",
    "test_predict = rfc.predict(X_test)\n",
    "\n",
    "train_accuracy = round(rfc.score(X_train,Y_train)*100)\n",
    "test_accuracy =round(accuracy_score(test_predict, Y_test)*100)\n",
    "\n",
    "print(\"Random Forest Train Accuracy Score : {}% \".format(train_accuracy ))\n",
    "print(\"Random Forest Test Accuracy Score  : {}% \".format(test_accuracy ))\n",
    "print()\n",
    "print(classification_report(test_predict, Y_test, target_names=target_category))"
   ]
  },
  {
   "cell_type": "code",
   "execution_count": null,
   "id": "30e33853",
   "metadata": {},
   "outputs": [],
   "source": []
  }
 ],
 "metadata": {
  "kernelspec": {
   "display_name": "Python 3",
   "language": "python",
   "name": "python3"
  },
  "language_info": {
   "codemirror_mode": {
    "name": "ipython",
    "version": 3
   },
   "file_extension": ".py",
   "mimetype": "text/x-python",
   "name": "python",
   "nbconvert_exporter": "python",
   "pygments_lexer": "ipython3",
   "version": "3.8.8"
  }
 },
 "nbformat": 4,
 "nbformat_minor": 5
}
